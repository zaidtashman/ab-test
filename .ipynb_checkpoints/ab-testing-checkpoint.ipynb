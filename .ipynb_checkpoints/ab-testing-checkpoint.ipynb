{
 "cells": [
  {
   "cell_type": "code",
   "execution_count": 1,
   "metadata": {},
   "outputs": [],
   "source": [
    "import numpy as np\n",
    "import pandas as pd\n",
    "from matplotlib import pyplot as plt\n",
    "from IPython.core.pylabtools import figsize\n",
    "import pymc3 as pm\n",
    "from scipy import stats\n",
    "import theano.tensor as tt\n",
    "\n",
    "%matplotlib inline"
   ]
  },
  {
   "cell_type": "code",
   "execution_count": 2,
   "metadata": {},
   "outputs": [
    {
     "data": {
      "text/html": [
       "<div>\n",
       "<style scoped>\n",
       "    .dataframe tbody tr th:only-of-type {\n",
       "        vertical-align: middle;\n",
       "    }\n",
       "\n",
       "    .dataframe tbody tr th {\n",
       "        vertical-align: top;\n",
       "    }\n",
       "\n",
       "    .dataframe thead th {\n",
       "        text-align: right;\n",
       "    }\n",
       "</style>\n",
       "<table border=\"1\" class=\"dataframe\">\n",
       "  <thead>\n",
       "    <tr style=\"text-align: right;\">\n",
       "      <th></th>\n",
       "      <th>time</th>\n",
       "      <th>a_count</th>\n",
       "      <th>b_count</th>\n",
       "    </tr>\n",
       "  </thead>\n",
       "  <tbody>\n",
       "    <tr>\n",
       "      <th>0</th>\n",
       "      <td>365</td>\n",
       "      <td>13.0</td>\n",
       "      <td>15.0</td>\n",
       "    </tr>\n",
       "    <tr>\n",
       "      <th>1</th>\n",
       "      <td>364</td>\n",
       "      <td>24.0</td>\n",
       "      <td>19.0</td>\n",
       "    </tr>\n",
       "    <tr>\n",
       "      <th>2</th>\n",
       "      <td>363</td>\n",
       "      <td>8.0</td>\n",
       "      <td>70.0</td>\n",
       "    </tr>\n",
       "    <tr>\n",
       "      <th>3</th>\n",
       "      <td>362</td>\n",
       "      <td>24.0</td>\n",
       "      <td>49.0</td>\n",
       "    </tr>\n",
       "    <tr>\n",
       "      <th>4</th>\n",
       "      <td>361</td>\n",
       "      <td>7.0</td>\n",
       "      <td>7.0</td>\n",
       "    </tr>\n",
       "  </tbody>\n",
       "</table>\n",
       "</div>"
      ],
      "text/plain": [
       "   time  a_count  b_count\n",
       "0   365     13.0     15.0\n",
       "1   364     24.0     19.0\n",
       "2   363      8.0     70.0\n",
       "3   362     24.0     49.0\n",
       "4   361      7.0      7.0"
      ]
     },
     "execution_count": 2,
     "metadata": {},
     "output_type": "execute_result"
    }
   ],
   "source": [
    "data = pd.read_csv('data.csv')\n",
    "data.head()"
   ]
  },
  {
   "cell_type": "code",
   "execution_count": 3,
   "metadata": {},
   "outputs": [],
   "source": [
    "count_data_a = np.array(data['a_count'])\n",
    "count_data_b = np.array(data['b_count'])\n",
    "count_data = np.concatenate((count_data_a,count_data_b))\n",
    "time = np.array(data['time'])\n",
    "n_count_data = len(time)"
   ]
  },
  {
   "cell_type": "code",
   "execution_count": 4,
   "metadata": {},
   "outputs": [
    {
     "data": {
      "text/plain": [
       "(0, 366)"
      ]
     },
     "execution_count": 4,
     "metadata": {},
     "output_type": "execute_result"
    },
    {
     "data": {
      "image/png": "[encoded data removed]",
      "text/plain": [
       "<Figure size 900x360 with 2 Axes>"
      ]
     },
     "metadata": {
      "needs_background": "light"
     },
     "output_type": "display_data"
    }
   ],
   "source": [
    "figsize(12.5, 5)\n",
    "\n",
    "ax = plt.subplot(211)\n",
    "plt.bar(np.arange(n_count_data), count_data_a, color=\"#348ABD\")\n",
    "plt.xlabel(\"Time\")\n",
    "plt.ylabel(\"count\")\n",
    "plt.title(\"count over time\")\n",
    "plt.xlim(0, n_count_data)\n",
    "\n",
    "ax = plt.subplot(212)\n",
    "plt.bar(np.arange(n_count_data), count_data_b, color=\"#348ABD\")\n",
    "plt.xlabel(\"Time\")\n",
    "plt.ylabel(\"count\")\n",
    "plt.title(\"count over time\")\n",
    "plt.xlim(0, n_count_data)"
   ]
  },
  {
   "cell_type": "code",
   "execution_count": 5,
   "metadata": {},
   "outputs": [],
   "source": [
    "with pm.Model() as model:\n",
    "    alpha = 1.0/count_data.mean()\n",
    "    \n",
    "    lambda_a = pm.Exponential(\"lambda_a\", alpha)\n",
    "    lambda_b = pm.Exponential(\"lambda_b\", alpha)\n",
    "    \n",
    "    count_a = pm.Poisson(\"count_a\", lambda_a, observed=count_data_a)\n",
    "    count_b = pm.Poisson(\"count_b\", lambda_b, observed=count_data_b)"
   ]
  },
  {
   "cell_type": "code",
   "execution_count": null,
   "metadata": {},
   "outputs": [],
   "source": [
    "with pm.Model() as model:\n",
    "    alpha = 1.0/count_data.mean()\n",
    "    \n",
    "    lambda_1 = pm.Exponential(\"lambda_1\", alpha)\n",
    "    lambda_2 = pm.Exponential(\"lambda_2\", alpha)\n",
    "    \n",
    "    tau = pm.DiscreteUniform(\"tau\", lower=0, upper=n_count_data - 1)\n",
    "    \n",
    "    idx = np.arange(n_count_data) # Index\n",
    "    lambda_ = pm.math.switch(tau > idx, lambda_1, lambda_2)\n",
    "    \n",
    "    observation = pm.Poisson(\"obs\", lambda_, observed=count_data)"
   ]
  },
  {
   "cell_type": "code",
   "execution_count": 6,
   "metadata": {},
   "outputs": [
    {
     "name": "stderr",
     "output_type": "stream",
     "text": [
      "Multiprocess sampling (2 chains in 2 jobs)\n",
      "NUTS: [lambda_b, lambda_a]\n",
      "Sampling 2 chains: 100%|██████████| 21000/21000 [00:08<00:00, 2520.42draws/s]\n"
     ]
    }
   ],
   "source": [
    "with model:\n",
    "    step = pm.NUTS()\n",
    "    trace = pm.sample(10000, step=step)"
   ]
  },
  {
   "cell_type": "code",
   "execution_count": 7,
   "metadata": {},
   "outputs": [
    {
     "name": "stdout",
     "output_type": "stream",
     "text": [
      "18.198089329711443\n",
      "20.64156633321377\n"
     ]
    }
   ],
   "source": [
    "lambda_a_samples = trace['lambda_a']\n",
    "lambda_b_samples = trace['lambda_b']\n",
    "print(lambda_a_samples.mean())\n",
    "print(lambda_b_samples.mean())"
   ]
  },
  {
   "cell_type": "code",
   "execution_count": 10,
   "metadata": {},
   "outputs": [
    {
     "data": {
      "text/plain": [
       "Text(0.5, 0, '$\\\\lambda_2$ value')"
      ]
     },
     "execution_count": 10,
     "metadata": {},
     "output_type": "execute_result"
    },
    {
     "data": {
      "image/png": "[encoded data removed]",
      "text/plain": [
       "<Figure size 900x504 with 2 Axes>"
      ]
     },
     "metadata": {
      "needs_background": "light"
     },
     "output_type": "display_data"
    }
   ],
   "source": [
    "figsize(12.5, 7)\n",
    "\n",
    "ax = plt.subplot(211)\n",
    "ax.set_autoscaley_on(True)\n",
    "plt.hist(lambda_a_samples, histtype='stepfilled', bins=30, alpha=0.85,\n",
    "         label=\"posterior of $\\lambda_1$\", color=\"#A60628\", normed=True)\n",
    "plt.legend(loc=\"upper left\")\n",
    "plt.title(r\"\"\"Posterior distributions of the variables\n",
    "    $\\lambda_1,\\;\\lambda_2,\\;\\tau$\"\"\")\n",
    "plt.xlim([15, 25])\n",
    "plt.xlabel(\"$\\lambda_1$ value\")\n",
    "\n",
    "ax = plt.subplot(212)\n",
    "ax.set_autoscaley_on(True)\n",
    "plt.hist(lambda_b_samples, histtype='stepfilled', bins=30, alpha=0.85,\n",
    "         label=\"posterior of $\\lambda_2$\", color=\"#7A68A6\", normed=True)\n",
    "plt.legend(loc=\"upper left\")\n",
    "plt.xlim([15, 25])\n",
    "plt.xlabel(\"$\\lambda_2$ value\")"
   ]
  },
  {
   "cell_type": "code",
   "execution_count": 15,
   "metadata": {},
   "outputs": [],
   "source": [
    "with pm.Model() as model:\n",
    "\n",
    "    # define priors, weakly informative Normal\n",
    "    alpha = pm.Normal('alpha', mu=0, sd=10)\n",
    "    beta_a = pm.Normal('beta_a', mu=0, sd=10)\n",
    "    beta_b = pm.Normal('beta_b', mu=0, sd=10)\n",
    "\n",
    "    # define linear model and exp link function\n",
    "    theta_a = (alpha + beta_a * time)\n",
    "    theta_b = (alpha + beta_b * time)\n",
    "\n",
    "    ## Define Poisson likelihood\n",
    "    count_a = pm.Poisson('count_a', mu=np.exp(theta_a), observed=count_data_a)\n",
    "    count_b = pm.Poisson('count_b', mu=np.exp(theta_b), observed=count_data_b)\n",
    "    "
   ]
  },
  {
   "cell_type": "code",
   "execution_count": 16,
   "metadata": {},
   "outputs": [
    {
     "name": "stderr",
     "output_type": "stream",
     "text": [
      "Multiprocess sampling (2 chains in 2 jobs)\n",
      "NUTS: [beta_b, beta_a, alpha]\n",
      "Sampling 2 chains: 100%|██████████| 21000/21000 [00:16<00:00, 1281.63draws/s]\n",
      "The acceptance probability does not match the target. It is 0.9446556293587384, but should be close to 0.8. Try to increase the number of tuning steps.\n",
      "The acceptance probability does not match the target. It is 0.9430044584401759, but should be close to 0.8. Try to increase the number of tuning steps.\n"
     ]
    }
   ],
   "source": [
    "with model:\n",
    "    step = pm.NUTS()\n",
    "    trace = pm.sample(10000, step=step)"
   ]
  },
  {
   "cell_type": "code",
   "execution_count": 17,
   "metadata": {},
   "outputs": [
    {
     "name": "stdout",
     "output_type": "stream",
     "text": [
      "2.943798925072667\n",
      "-0.00016751510500238322\n",
      "0.0003931770184692997\n"
     ]
    }
   ],
   "source": [
    "alpha_samples = trace['alpha']\n",
    "beta_a_samples = trace['beta_a']\n",
    "beta_b_samples = trace['beta_b']\n",
    "print(alpha_samples.mean())\n",
    "print(beta_a_samples.mean())\n",
    "print(beta_b_samples.mean())"
   ]
  },
  {
   "cell_type": "code",
   "execution_count": null,
   "metadata": {},
   "outputs": [],
   "source": []
  },
  {
   "cell_type": "code",
   "execution_count": null,
   "metadata": {},
   "outputs": [],
   "source": []
  },
  {
   "cell_type": "code",
   "execution_count": null,
   "metadata": {},
   "outputs": [],
   "source": []
  },
  {
   "cell_type": "code",
   "execution_count": null,
   "metadata": {},
   "outputs": [],
   "source": []
  },
  {
   "cell_type": "code",
   "execution_count": null,
   "metadata": {},
   "outputs": [],
   "source": []
  },
  {
   "cell_type": "code",
   "execution_count": null,
   "metadata": {},
   "outputs": [],
   "source": []
  },
  {
   "cell_type": "code",
   "execution_count": null,
   "metadata": {},
   "outputs": [],
   "source": []
  },
  {
   "cell_type": "code",
   "execution_count": null,
   "metadata": {},
   "outputs": [],
   "source": []
  },
  {
   "cell_type": "code",
   "execution_count": null,
   "metadata": {},
   "outputs": [],
   "source": []
  },
  {
   "cell_type": "code",
   "execution_count": null,
   "metadata": {},
   "outputs": [],
   "source": []
  },
  {
   "cell_type": "code",
   "execution_count": null,
   "metadata": {},
   "outputs": [],
   "source": []
  },
  {
   "cell_type": "code",
   "execution_count": 72,
   "metadata": {},
   "outputs": [
    {
     "data": {
      "image/png": "[encoded data removed]",
      "text/plain": [
       "<Figure size 900x360 with 1 Axes>"
      ]
     },
     "metadata": {
      "needs_background": "light"
     },
     "output_type": "display_data"
    }
   ],
   "source": [
    "figsize(12.5, 5)\n",
    "\n",
    "N = tau_samples.shape[0]\n",
    "expected_count = np.zeros(n_count_data)\n",
    "for t in range(0, n_count_data):\n",
    "    ix = t < tau_samples\n",
    "    expected_count[t] = (lambda_1_samples[ix].sum() + lambda_2_samples[~ix].sum()) / N\n",
    "\n",
    "plt.plot(range(n_count_data), expected_count, lw=4, color=\"#E24A33\",\n",
    "         label=\"expected count\")\n",
    "plt.xlim(0, n_count_data)\n",
    "plt.xlabel(\"Time\")\n",
    "plt.ylabel(\"Expected count\")\n",
    "plt.title(\"Expected count\")\n",
    "plt.ylim(0, 70)\n",
    "plt.bar(np.arange(len(count_data)), count_data, color=\"#348ABD\", alpha=0.65,\n",
    "        label=\"observed count\")\n",
    "\n",
    "plt.legend(loc=\"upper left\");"
   ]
  },
  {
   "cell_type": "code",
   "execution_count": 73,
   "metadata": {},
   "outputs": [
    {
     "data": {
      "text/plain": [
       "Text(0.5, 0, 'count data')"
      ]
     },
     "execution_count": 73,
     "metadata": {},
     "output_type": "execute_result"
    },
    {
     "data": {
      "image/png": "[encoded data removed]",
      "text/plain": [
       "<Figure size 900x720 with 2 Axes>"
      ]
     },
     "metadata": {
      "needs_background": "light"
     },
     "output_type": "display_data"
    }
   ],
   "source": [
    "figsize(12.5, 10)\n",
    "#histogram of the samples:\n",
    "\n",
    "ax = plt.subplot(211)\n",
    "\n",
    "plt.hist(count_data[:tau_mode], histtype='stepfilled', bins=30, alpha=0.85,\n",
    "         label=r\"count dist $\\tau$\", color=\"#A60628\", normed=True)\n",
    "plt.legend(loc=\"upper left\")\n",
    "plt.title(r\"\"\"count data distribution before and after $\\tau$\"\"\")\n",
    "plt.xlabel(\"count\")\n",
    "\n",
    "ax = plt.subplot(212)\n",
    "plt.hist(count_data[tau_mode:], histtype='stepfilled', bins=30, alpha=0.85,\n",
    "         label=r\"count dist after $\\tau$\", color=\"#7A68A6\", normed=True)\n",
    "plt.legend(loc=\"upper left\")\n",
    "plt.xlabel(\"count data\")"
   ]
  },
  {
   "cell_type": "code",
   "execution_count": null,
   "metadata": {},
   "outputs": [],
   "source": []
  },
  {
   "cell_type": "code",
   "execution_count": null,
   "metadata": {},
   "outputs": [],
   "source": []
  },
  {
   "cell_type": "code",
   "execution_count": null,
   "metadata": {},
   "outputs": [],
   "source": []
  }
 ],
 "metadata": {
  "kernelspec": {
   "display_name": "Python 3",
   "language": "python",
   "name": "python3"
  },
  "language_info": {
   "codemirror_mode": {
    "name": "ipython",
    "version": 3
   },
   "file_extension": ".py",
   "mimetype": "text/x-python",
   "name": "python",
   "nbconvert_exporter": "python",
   "pygments_lexer": "ipython3",
   "version": "3.7.1"
  }
 },
 "nbformat": 4,
 "nbformat_minor": 2
}
